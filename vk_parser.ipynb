{
 "cells": [
  {
   "cell_type": "markdown",
   "id": "b3360066",
   "metadata": {},
   "source": [
    "Парсер групп в ВК для выгрузки постов и материалов со стены."
   ]
  },
  {
   "cell_type": "code",
   "execution_count": 1,
   "id": "2ba78a60",
   "metadata": {},
   "outputs": [],
   "source": [
    "import vk_api\n",
    "import pandas as pd\n",
    "import numpy as np\n",
    "import json"
   ]
  },
  {
   "cell_type": "code",
   "execution_count": null,
   "id": "7ccdf6e7",
   "metadata": {},
   "outputs": [],
   "source": [
    "def init_token(login, password):\n",
    "    global vk\n",
    "    vk_session = vk_api.VkApi(login=login, password=password)\n",
    "    \n",
    "    try:\n",
    "        vk_session.auth(token_only=True)\n",
    "    except vk_api.AuthError as error_msg:\n",
    "        print(error_msg)\n",
    "        return\n",
    "    \n",
    "    vk = vk_session.get_api()"
   ]
  },
  {
   "cell_type": "code",
   "execution_count": null,
   "id": "57471d33",
   "metadata": {},
   "outputs": [],
   "source": [
    "def get_posts(domain_id):\n",
    "    response = vk.wall.get(domain=domain_id, count=100)\n",
    "    \n",
    "    count = np.floor_divide(response[\"count\"], 100)\n",
    "    full_response = response['items']\n",
    "    \n",
    "    for i in range(1, count+1):  \n",
    "        full_response = full_response + vk.wall.get(domain=domain_id, count=100, offset=i*100)['items']\n",
    "        \n",
    "    response['items'] = full_response\n",
    "    \n",
    "    return response"
   ]
  },
  {
   "cell_type": "code",
   "execution_count": null,
   "id": "c52f2943",
   "metadata": {},
   "outputs": [],
   "source": [
    "if __name__ == \"__main__\":\n",
    "    login, password = '#Your Login', '#Your Password'\n",
    "    domain = '#Short name of group in url'\n",
    "    init_token(login, password)\n",
    "    response = get_posts(domain)\n",
    "    result = pd.DataFrame(response['items'])"
   ]
  },
  {
   "cell_type": "markdown",
   "id": "00632fd8",
   "metadata": {},
   "source": [
    "После этого уже можно проводить все желаемые манипуляции с ДатаФреймом"
   ]
  }
 ],
 "metadata": {
  "kernelspec": {
   "display_name": "Python 3 (ipykernel)",
   "language": "python",
   "name": "python3"
  },
  "language_info": {
   "codemirror_mode": {
    "name": "ipython",
    "version": 3
   },
   "file_extension": ".py",
   "mimetype": "text/x-python",
   "name": "python",
   "nbconvert_exporter": "python",
   "pygments_lexer": "ipython3",
   "version": "3.9.7"
  }
 },
 "nbformat": 4,
 "nbformat_minor": 5
}
